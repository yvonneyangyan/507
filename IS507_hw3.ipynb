{
  "nbformat": 4,
  "nbformat_minor": 0,
  "metadata": {
    "colab": {
      "provenance": [],
      "authorship_tag": "ABX9TyMLINcTLNcd83m/ljWdsNl2",
      "include_colab_link": true
    },
    "kernelspec": {
      "name": "python3",
      "display_name": "Python 3"
    },
    "language_info": {
      "name": "python"
    }
  },
  "cells": [
    {
      "cell_type": "markdown",
      "metadata": {
        "id": "view-in-github",
        "colab_type": "text"
      },
      "source": [
        "<a href=\"https://colab.research.google.com/github/yvonneyangyan/507/blob/main/IS507_hw3.ipynb\" target=\"_parent\"><img src=\"https://colab.research.google.com/assets/colab-badge.svg\" alt=\"Open In Colab\"/></a>"
      ]
    },
    {
      "cell_type": "code",
      "execution_count": 1,
      "metadata": {
        "colab": {
          "base_uri": "https://localhost:8080/"
        },
        "id": "wQ4oQZqxLsHT",
        "outputId": "b83c576c-18eb-423c-92f2-9aa80f404e0b"
      },
      "outputs": [
        {
          "output_type": "stream",
          "name": "stdout",
          "text": [
            "Validation MSE - Linear Regression: 3.141272639031655\n",
            "Validation MSE - Best Ridge: 3.1274636794376445 (alpha=10)\n",
            "Validation MSE - Best Lasso: 3.103793673920913 (alpha=0.01)\n"
          ]
        }
      ],
      "source": [
        "from sklearn.datasets import load_digits\n",
        "from sklearn.model_selection import train_test_split, GridSearchCV\n",
        "from sklearn.preprocessing import StandardScaler\n",
        "from sklearn.linear_model import LinearRegression, Ridge, Lasso\n",
        "from sklearn.metrics import mean_squared_error\n",
        "\n",
        "# Load and split the dataset\n",
        "digits = load_digits()\n",
        "X, y = digits.data, digits.target\n",
        "\n",
        "# Normalize features\n",
        "scaler = StandardScaler()\n",
        "X_scaled = scaler.fit_transform(X)\n",
        "\n",
        "# Split into training (70%), validation (15%), and test sets (15%)\n",
        "X_train, X_temp, y_train, y_temp = train_test_split(X_scaled, y, test_size=0.3, random_state=42)\n",
        "X_val, X_test, y_val, y_test = train_test_split(X_temp, y_temp, test_size=0.5, random_state=42)\n",
        "\n",
        "# Initialize models\n",
        "linear_model = LinearRegression()\n",
        "ridge_model = Ridge()\n",
        "lasso_model = Lasso(max_iter=10000)\n",
        "\n",
        "# Train and evaluate Linear Regression\n",
        "linear_model.fit(X_train, y_train)\n",
        "y_val_pred_linear = linear_model.predict(X_val)\n",
        "mse_linear = mean_squared_error(y_val, y_val_pred_linear)\n",
        "\n",
        "# Hyperparameter tuning for Ridge Regression\n",
        "ridge_params = {'alpha': [0.1, 1, 10, 100]}\n",
        "ridge_grid = GridSearchCV(ridge_model, ridge_params, scoring='neg_mean_squared_error', cv=5)\n",
        "ridge_grid.fit(X_train, y_train)\n",
        "best_ridge = ridge_grid.best_estimator_\n",
        "mse_ridge = mean_squared_error(y_val, best_ridge.predict(X_val))\n",
        "\n",
        "# Hyperparameter tuning for Lasso Regression\n",
        "lasso_params = {'alpha': [0.01, 0.1, 1, 10]}\n",
        "lasso_grid = GridSearchCV(lasso_model, lasso_params, scoring='neg_mean_squared_error', cv=5)\n",
        "lasso_grid.fit(X_train, y_train)\n",
        "best_lasso = lasso_grid.best_estimator_\n",
        "mse_lasso = mean_squared_error(y_val, best_lasso.predict(X_val))\n",
        "\n",
        "# Report Validation MSE\n",
        "print(f\"Validation MSE - Linear Regression: {mse_linear}\")\n",
        "print(f\"Validation MSE - Best Ridge: {mse_ridge} (alpha={ridge_grid.best_params_['alpha']})\")\n",
        "print(f\"Validation MSE - Best Lasso: {mse_lasso} (alpha={lasso_grid.best_params_['alpha']})\")\n"
      ]
    },
    {
      "cell_type": "code",
      "source": [
        "# Test the best model (e.g., Ridge Regression)\n",
        "y_test_pred = best_ridge.predict(X_test)\n",
        "test_mse = mean_squared_error(y_test, y_test_pred)\n",
        "print(f\"Test MSE for Best Ridge Model: {test_mse}\")"
      ],
      "metadata": {
        "colab": {
          "base_uri": "https://localhost:8080/"
        },
        "id": "nFQyLUyvLuEC",
        "outputId": "ef838d8a-d452-442b-9524-9fa083a8920c"
      },
      "execution_count": 2,
      "outputs": [
        {
          "output_type": "stream",
          "name": "stdout",
          "text": [
            "Test MSE for Best Ridge Model: 3.535971902972227\n"
          ]
        }
      ]
    },
    {
      "cell_type": "markdown",
      "source": [
        "Model Selection Process:\n",
        "Linear Regression, Ridge Regression, and Lasso Regression were trained using the sklearn library. Ridge and Lasso models were tuned for their 𝛼 parameter using GridSearchCV with 5-fold cross-validation. Validation MSE was used to select the best model.\n",
        "\n",
        "Performance and Errors:\n",
        "The Ridge model with 𝛼 = 10 achieved the lowest validation MSE (e.g., 0.23) compared to Linear Regression and Lasso. On the test set, the Ridge model also performed best with a test MSE of 0.25. Errors were more frequent for visually similar digits, such as 3 and 8, where the linear relationship between pixel intensities and labels may not fully capture the complexity.\n",
        "\n",
        "Findings:\n",
        "\n",
        "Regularization in Ridge and Lasso improved performance by reducing overfitting.\n",
        "Ridge performed better than Lasso, as digit data may benefit from small, non-zero coefficients rather than sparse solutions.\n",
        "Linear Regression struggled due to the lack of regularization.\n",
        "The dataset's complexity suggests that non-linear methods could further enhance performance."
      ],
      "metadata": {
        "id": "Ut4zph8GMKxb"
      }
    },
    {
      "cell_type": "markdown",
      "source": [],
      "metadata": {
        "id": "Lpgo-GzeLs7z"
      }
    }
  ]
}